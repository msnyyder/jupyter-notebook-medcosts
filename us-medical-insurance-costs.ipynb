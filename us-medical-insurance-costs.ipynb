{
 "cells": [
  {
   "cell_type": "markdown",
   "metadata": {},
   "source": [
    "# U.S. Medical Insurance Costs"
   ]
  },
  {
   "cell_type": "markdown",
   "metadata": {},
   "source": [
    "## Scope\n",
    "The scope of this portfolio project is to analyse the given data to determine the relationship between insurance costs and whether or not a patient is a smoker. The general expectation upon early analysis is that the insurance costs of those who smoke are generally higher than those of non-smokers."
   ]
  },
  {
   "cell_type": "code",
   "execution_count": 1,
   "metadata": {},
   "outputs": [],
   "source": [
    "# import csv module\n",
    "import csv"
   ]
  },
  {
   "cell_type": "markdown",
   "metadata": {},
   "source": [
    "In order to be able to read the data in the CSV file, it is necessary to import the CSV module to access the relevant functions."
   ]
  },
  {
   "cell_type": "code",
   "execution_count": 2,
   "metadata": {},
   "outputs": [],
   "source": [
    "# Create empty lists in order to store the information to access later\n",
    "# Due to the specificity of this analysis, lists will only be created for the smoking status and charge columns.\n",
    "smoker_status = []\n",
    "charges = []"
   ]
  },
  {
   "cell_type": "markdown",
   "metadata": {},
   "source": [
    "In order to maintain modularity, a helper function will be created to store the relevant information in their corresponding lists."
   ]
  },
  {
   "cell_type": "code",
   "execution_count": 3,
   "metadata": {},
   "outputs": [],
   "source": [
    "# Define function to load data to lists\n",
    "def loadData(lst, file, column):\n",
    "    # Open file\n",
    "    with open(file) as insuranceCSV:\n",
    "        # Read data into dict\n",
    "        insuranceReader = csv.DictReader(insuranceCSV)\n",
    "        # Append data to list\n",
    "        for row in insuranceReader:\n",
    "            lst.append(row[column])\n",
    "        # Return list\n",
    "        return lst"
   ]
  },
  {
   "cell_type": "code",
   "execution_count": 4,
   "metadata": {},
   "outputs": [
    {
     "data": {
     },
     "execution_count": 4,
     "metadata": {},
     "output_type": "execute_result"
    }
   ],
   "source": [
    "# Call functions for smokerStatus and charges\n",
    "loadData(smoker_status, 'insurance.csv', 'smoker')\n",
    "loadData(charges, 'insurance.csv', 'charges')"
   ]
  },
  {
   "cell_type": "markdown",
   "metadata": {},
   "source": [
    "Next, a for loop will be used to look through the smoker_status list and determine whether a patient is a smoker or not, and then use that data to add the corresponding charges in order to find the average."
   ]
  },
  {
   "cell_type": "code",
   "execution_count": 5,
   "metadata": {},
   "outputs": [],
   "source": [
    "# Create variable for smokers and non-smokers\n",
    "smokers = 0\n",
    "non_smokers = 0\n",
    "# Create variable to save the number of patients in order to average the values\n",
    "max_patients = len(charges)\n",
    "\n",
    "# Create for loop to add charges to corresponding lists\n",
    "for i in range(len(smoker_status)):\n",
    "    if (smoker_status[i] == 'yes'):\n",
    "        smokers += float(charges[i])\n",
    "    else:\n",
    "        non_smokers += float(charges[i])"
   ]
  },
  {
   "cell_type": "markdown",
   "metadata": {},
   "source": [
    "Now that all the hard work is done, all that remains is to view the results!"
   ]
  },
  {
   "cell_type": "code",
   "execution_count": 6,
   "metadata": {},
   "outputs": [
    {
     "name": "stdout",
     "output_type": "stream",
     "text": [
      "The average insurance cost for smokers is: $6563.35\n",
      "The average insurance cost for non-smokers is: $6707.07\n"
     ]
    }
   ],
   "source": [
    "print(\"The average insurance cost for smokers is: $\" + str(round(smokers/max_patients, 2)))\n",
    "print(\"The average insurance cost for non-smokers is: $\" + str(round(non_smokers/max_patients, 2)))"
   ]
  }
 ],
 "metadata": {
  "kernelspec": {
   "display_name": "Python 3",
   "language": "python",
   "name": "python3"
  },
  "language_info": {
   "codemirror_mode": {
    "name": "ipython",
    "version": 3
   },
   "file_extension": ".py",
   "mimetype": "text/x-python",
   "name": "python",
   "nbconvert_exporter": "python",
   "pygments_lexer": "ipython3",
   "version": "3.8.8"
  }
 },
 "nbformat": 4,
 "nbformat_minor": 4
}
